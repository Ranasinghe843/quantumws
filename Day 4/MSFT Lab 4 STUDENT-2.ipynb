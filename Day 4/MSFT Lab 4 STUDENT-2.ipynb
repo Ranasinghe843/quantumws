{
  "cells": [
    {
      "cell_type": "markdown",
      "source": [
        "# **Lab #4: Variational Quantum Eigensolver (VQE)** \n",
        "## **Microsoft Winter School, February 12th 2023**\n",
        "\n",
        "### **Summary**\n",
        "\n",
        "In today's lab, we are going to implement the Variational Quantum Eigensolver (VQE) algorithm using Q# and python to solve several different problems.\n",
        "\n",
        "<br>\n",
        "\n",
        "### **Learning Objectives**\n",
        "* Become familiar with the nature of hybrid algorithms.\n",
        "* See VQE in practice.\n",
        "* See how different problems can be turned into Hamiltonians."
      ],
      "metadata": {
        "id": "JVVLcPDR1eSf"
      }
    },
    {
      "cell_type": "markdown",
      "source": [
        "## **Part #0: Imports**\n",
        "---\n",
        "\n",
        "**Run the code below to import all necessary libraries and functions for this lab.**\n",
        "\n",
        "<br>\n",
        "\n",
        "**NOTE:** Azure Quantum Workspace Notebooks allow you to run both Q# and Python code. We are going to use Python to visualize our results. Every cell containing Q# code needs to be identified with `%%qsharp`. We will be using _Python3 kernel_, so, **please, make sure the correct kernel is selected at the top!**"
      ],
      "metadata": {
        "nteract": {
          "transient": {
            "deleting": false
          }
        },
        "id": "ENXo-7TN1eSh"
      }
    },
    {
      "cell_type": "code",
      "source": [
        "# QSHARP IMPORTS\n",
        "#================\n",
        "import qsharp\n",
        "import qsharp.azure\n",
        "\n",
        "targets = qsharp.azure.connect(\n",
        "   resourceId=\"/subscriptions/c279c616-1c9b-46c2-a843-380394620c72/resourceGroups/AzureQuantum/providers/Microsoft.Quantum/Workspaces/qxqwinterschoolSamithaRanasinghe\",\n",
        "   location=\"eastus\"\n",
        ")\n",
        "\n",
        "\n",
        "# Connect to available targets\n",
        "\n",
        "\n",
        "\n",
        "# OTHER IMPORTS\n",
        "#================\n",
        "from scipy.optimize import minimize\n",
        "import json\n",
        "import numpy as np\n",
        "from random import random\n",
        "import matplotlib.pyplot as plt\n",
        "import pandas as pd\n",
        "\n",
        "import warnings\n",
        "warnings.filterwarnings('ignore')\n",
        "\n",
        "\n",
        "# HELPER FUNCTIONS\n",
        "#===================\n",
        "def localSimulator(operation, parameters, numQubits, shots, trim = False):\n",
        "\n",
        "    results = {}\n",
        "    for i in range(shots):\n",
        "        state = str(operation.simulate(parameters = parameters, numQubits = numQubits))\n",
        "\n",
        "        if state in results: results[state] += 1 / shots\n",
        "        else: results[state] = 1 / shots\n",
        "\n",
        "    if trim == True:\n",
        "\n",
        "        for state in list(results.keys()):\n",
        "            if results[state] < 1e-2: del(results[state])\n",
        "\n",
        "    return results\n",
        "    \n",
        "\n",
        "def printFullSpectrum(numQubits, Hamiltonian):\n",
        "  for n in range(2**numQubits):\n",
        "      num = [int(b) for b in list(bin(n)[2:])]\n",
        "      state = [0]*(numQubits - len(num)) + num\n",
        "      print(state, Hamiltonian(state))\n"
      ],
      "outputs": [
        {
          "output_type": "stream",
          "name": "stdout",
          "text": "Preparing Q# environment...\n"
        },
        {
          "output_type": "display_data",
          "data": {
            "text/plain": "Connecting to Azure Quantum...",
            "application/x-qsharp-data": "\"Connecting to Azure Quantum...\""
          },
          "metadata": {}
        },
        {
          "output_type": "stream",
          "name": "stdout",
          "text": "Authenticated using Microsoft.Azure.Quantum.Authentication.TokenFileCredential\n\n\nConnected to Azure Quantum workspace qxqwinterschoolSamithaRanasinghe in location eastus.\n"
        }
      ],
      "execution_count": 2,
      "metadata": {
        "jupyter": {
          "source_hidden": false,
          "outputs_hidden": false
        },
        "nteract": {
          "transient": {
            "deleting": false
          }
        },
        "id": "tv8i1eUdLwLq"
      }
    },
    {
      "cell_type": "code",
      "source": [
        "%%qsharp\n",
        "\n",
        "open Microsoft.Quantum.Measurement;\n",
        "open Microsoft.Quantum.Math;\n",
        "open Microsoft.Quantum.Arithmetic;\n",
        "open Microsoft.Quantum.Preparation;\n",
        "open Microsoft.Quantum.Convert;"
      ],
      "outputs": [],
      "execution_count": 3,
      "metadata": {
        "jupyter": {
          "source_hidden": false,
          "outputs_hidden": false
        },
        "nteract": {
          "transient": {
            "deleting": false
          }
        },
        "microsoft": {
          "language": "qsharp"
        },
        "id": "TXkoS9AOLwLt"
      }
    },
    {
      "cell_type": "markdown",
      "source": [
        "## **Part #1: Setting Up VQE**\n",
        "---\n",
        "\n",
        "In this section, we will write the code to create a general VQE algorithm that uses Q# operations."
      ],
      "metadata": {
        "nteract": {
          "transient": {
            "deleting": false
          }
        },
        "id": "dgiJSJ_n1eSk"
      }
    },
    {
      "cell_type": "markdown",
      "source": [
        "### **Exercise #1.1: Measure Trial State Operation (Practice Together)**\n",
        "\n",
        "Let's start by writing the core quantum operation of VQE: preparing and measuring a trial state. We will do this in three parts:\n",
        "\n",
        "1. Declare the operation in python so that it is recognized later on.\n",
        "2. Create an operation in Q# called `MeasureTrialState`.\n",
        "3. Simulate the operation in python."
      ],
      "metadata": {
        "nteract": {
          "transient": {
            "deleting": false
          }
        },
        "id": "z_E96aK51eSk"
      }
    },
    {
      "cell_type": "markdown",
      "source": [
        "#### **1. Declare the operation in python so that it is recognized later on.**"
      ],
      "metadata": {
        "nteract": {
          "transient": {
            "deleting": false
          }
        },
        "id": "G-jxQntwOuES"
      }
    },
    {
      "cell_type": "code",
      "source": [
        "MeasureTrialState : any = None"
      ],
      "outputs": [],
      "execution_count": 4,
      "metadata": {
        "jupyter": {
          "source_hidden": false,
          "outputs_hidden": false
        },
        "nteract": {
          "transient": {
            "deleting": false
          }
        },
        "id": "2otMD8J6LwLu"
      }
    },
    {
      "cell_type": "markdown",
      "source": [
        "#### **2. Create an operation in Q# called `MeasureTrialState`.** \n",
        "\n",
        "Let's complete the code below so that this operation:\n",
        "* Takes two inputs: a Double Array called `parameters` and an Int called `numQubits`.\n",
        "* Returns an Array of Results after preparing and measuring `numQubits` in the state specified by `parameters`."
      ],
      "metadata": {
        "nteract": {
          "transient": {
            "deleting": false
          }
        },
        "id": "7zIgx1ttOuES"
      }
    },
    {
      "cell_type": "code",
      "source": [
        "%%qsharp\n",
        "\n",
        "operation MeasureTrialState(parameters : Double[], numQubits : Int) : Result[] {\n",
        "\n",
        "    use qs = Qubit[numQubits];\n",
        "\n",
        "    ApproximatelyPrepareArbitraryStateD(1e-3, parameters, LittleEndian(qs));\n",
        "\n",
        "    return MultiM(qs);\n",
        "}"
      ],
      "outputs": [],
      "execution_count": 8,
      "metadata": {
        "id": "EcLnQaysPd7V",
        "microsoft": {
          "language": "qsharp"
        }
      }
    },
    {
      "cell_type": "markdown",
      "source": [
        "#### **3. Simulate the operation in python.**\n",
        "\n",
        "**Run the cell below to use Microsoft's simulator.**"
      ],
      "metadata": {
        "nteract": {
          "transient": {
            "deleting": false
          }
        },
        "id": "rDSdIv6bOuES"
      }
    },
    {
      "cell_type": "code",
      "source": [
        "MeasureTrialState.simulate(parameters = [0, 1], numQubits = 1)"
      ],
      "outputs": [
        {
          "output_type": "execute_result",
          "execution_count": 9,
          "data": {
            "text/plain": "[1]"
          },
          "metadata": {}
        }
      ],
      "execution_count": 9,
      "metadata": {
        "jupyter": {
          "source_hidden": false,
          "outputs_hidden": false
        },
        "nteract": {
          "transient": {
            "deleting": false
          }
        },
        "id": "Flz80qo4OuET"
      }
    },
    {
      "cell_type": "markdown",
      "source": [
        "### **Exercise #1.2: Average Energy (Practice Together)**\n",
        "\n",
        "Now, let's write a python function that uses our operation to calculate the average energy for a given set of parameters. Specifically, it will:\n",
        "* Take the inputs `parameters`, `numQubits`, `Hamiltonian`, and `shots`.\n",
        "* Prepare and measure a quantum state `shots` times, using `parameters` and `numQubits`.\n",
        "* Calculate and return the average energy of these measurements using `Hamiltonian`."
      ],
      "metadata": {
        "nteract": {
          "transient": {
            "deleting": false
          }
        },
        "id": "uw89Z0ojQU7n"
      }
    },
    {
      "cell_type": "code",
      "source": [
        "def averageEnergy(parameters, numQubits, Hamiltonian, shots = 20):\n",
        "\n",
        "    # Prepare and measure the state many times\n",
        "    results = localSimulator(MeasureTrialState, parameters, numQubits, shots)\n",
        "\n",
        "\n",
        "    # Calculate and return the average energy of this set of measurements\n",
        "    averageEnergy = 0\n",
        "    for bits in results.keys():\n",
        "        state = json.loads(bits)\n",
        "        averageEnergy += Hamiltonian(state) * results[bits]\n",
        "    \n",
        "    return averageEnergy"
      ],
      "outputs": [],
      "execution_count": 10,
      "metadata": {
        "jupyter": {
          "source_hidden": false,
          "outputs_hidden": false
        },
        "nteract": {
          "transient": {
            "deleting": false
          }
        },
        "id": "Drd_TtdFLwLu"
      }
    },
    {
      "cell_type": "markdown",
      "source": [
        "### **Exercise #1.3: VQE (Practice Together)**\n",
        "\n",
        "Finally, let's create the VQE function in python. Specifically, it will:\n",
        "* Take the inputs `numQubits` and `Hamiltonian`.\n",
        "* Initialize a random guess of parameters.\n",
        "* Return the result of minimizing `averageEnergy` for the given inputs and initial parameters."
      ],
      "metadata": {
        "nteract": {
          "transient": {
            "deleting": false
          }
        },
        "id": "39AaR4mGS57W"
      }
    },
    {
      "cell_type": "code",
      "source": [
        "def VQE(numQubits, Hamiltonian): \n",
        "    \n",
        "    parameters = [1 / 2**numQubits] * (2**numQubits)\n",
        "\n",
        "    return minimize(averageEnergy, parameters, args = (numQubits, Hamiltonian), method = \"SLSQP\")"
      ],
      "outputs": [],
      "execution_count": 11,
      "metadata": {
        "id": "-fBFO9qjRE19"
      }
    },
    {
      "cell_type": "markdown",
      "source": [
        "## **Part #2: Solving a Toy Problem**\n",
        "---\n",
        "\n",
        "Now, we will solve a simple \"toy problem\" to get a feel for how VQE works. Specifically, we will minimize the Hamiltonian: $H = x_0 + x_1 - C x_0 x_1$. \n",
        "\n",
        "<br>\n",
        "\n",
        "**NOTE**: The solutions are quick to calculate without using VQE, which means we can use this example to ensure our VQE code works:\n",
        "\n",
        "For $C < 2$, $x_0 = x_1 = 0$ is the optimal solution with $H = 0$.\n",
        "\n",
        "For $C = 2$, $x_0 = x_1 = 0$ and $x_0 = x_1 = 1$ are equally optimal solutions with $H = 0$.\n",
        "\n",
        "For $C > 2$, $x_0 = x_1 = 1$ is the optimal solution with $H = 2 - C$."
      ],
      "metadata": {
        "nteract": {
          "transient": {
            "deleting": false
          }
        },
        "id": "DCyQkJ-aUNhh"
      }
    },
    {
      "cell_type": "markdown",
      "source": [
        "### **Exercise #2.1: Defining and Solving a Problem with VQE (Practice Together)**\n",
        "\n",
        "We will starting by solving this problem for $C = 1$. We will do this in three steps:\n",
        "1. Define the problem, specifically the Hamiltonian.\n",
        "2. Run VQE for the problem.\n",
        "3. Examine the results."
      ],
      "metadata": {
        "nteract": {
          "transient": {
            "deleting": false
          }
        },
        "id": "NpHRMM0AcXeo"
      }
    },
    {
      "cell_type": "markdown",
      "source": [
        "#### **1. Define the problem, specifically the Hamiltonian.**"
      ],
      "metadata": {
        "nteract": {
          "transient": {
            "deleting": false
          }
        },
        "id": "Mn4J0Zuicv1y"
      }
    },
    {
      "cell_type": "code",
      "source": [
        "def Hamiltonian(state): return state[0] + state[1] - state[0]*state[1]"
      ],
      "outputs": [],
      "execution_count": 5,
      "metadata": {
        "jupyter": {
          "source_hidden": false,
          "outputs_hidden": false
        },
        "nteract": {
          "transient": {
            "deleting": false
          }
        },
        "id": "-7xdBXF1LwLw"
      }
    },
    {
      "cell_type": "markdown",
      "source": [
        "##### **Run the code below to see all possible states and their energies.** (Physicists call this the *energy spectrum*.)"
      ],
      "metadata": {
        "id": "90C7Pv4Ic_tG"
      }
    },
    {
      "cell_type": "code",
      "source": [
        "printFullSpectrum(2, Hamiltonian)"
      ],
      "outputs": [
        {
          "output_type": "stream",
          "name": "stdout",
          "text": "[0, 0] 0\n[0, 1] 1\n[1, 0] 1\n[1, 1] 1\n"
        }
      ],
      "execution_count": 6,
      "metadata": {
        "id": "YuzDL2vKdGNV"
      }
    },
    {
      "cell_type": "markdown",
      "source": [
        "#### **2. Run VQE for the problem.**"
      ],
      "metadata": {
        "nteract": {
          "transient": {
            "deleting": false
          }
        },
        "id": "7d97AUjrc10r"
      }
    },
    {
      "cell_type": "code",
      "source": [
        "result = VQE(2, Hamiltonian)"
      ],
      "outputs": [],
      "execution_count": 12,
      "metadata": {
        "id": "JJQkqTQocyzX"
      }
    },
    {
      "cell_type": "markdown",
      "source": [
        "#### **3. Examine the results.**"
      ],
      "metadata": {
        "nteract": {
          "transient": {
            "deleting": false
          }
        },
        "id": "JpQMaZu-c7yB"
      }
    },
    {
      "cell_type": "code",
      "source": [
        "print(result)\n",
        "results = localSimulator(MeasureTrialState, result.x, 2, 1000)\n",
        "\n",
        "plt.bar(results.keys(), results.values())\n",
        "\n",
        "plt.title(\"Result\")\n",
        "plt.xlabel(\"Measurement\")\n",
        "plt.ylabel(\"Probability\")\n",
        "\n",
        "plt.xticks(rotation = 90)\n",
        "\n",
        "plt.show()"
      ],
      "outputs": [
        {
          "output_type": "stream",
          "name": "stdout",
          "text": " message: Optimization terminated successfully\n success: True\n  status: 0\n     fun: 0.8500000000000001\n       x: [ 9.831e+03  6.554e+03  3.277e+03  1.638e+04]\n     nit: 1\n     jac: [-1.007e+07 -6.711e+06 -3.355e+06 -1.678e+07]\n    nfev: 16\n    njev: 1\n"
        },
        {
          "output_type": "display_data",
          "data": {
            "text/plain": "<Figure size 640x480 with 1 Axes>",
            "image/png": "[encoded data removed]"
          },
          "metadata": {}
        }
      ],
      "execution_count": 13,
      "metadata": {
        "id": "KTqlJ7gFc6B3"
      }
    },
    {
      "cell_type": "markdown",
      "source": [
        "### **Exercise #2.2**\n",
        "\n",
        "Solve this problem for $C = 5$ using our three steps:\n",
        "1. Define the problem, specifically the Hamiltonian.\n",
        "2. Run VQE for the problem.\n",
        "3. Examine the results."
      ],
      "metadata": {
        "nteract": {
          "transient": {
            "deleting": false
          }
        },
        "id": "XbHFBJw3d0Ow"
      }
    },
    {
      "cell_type": "markdown",
      "source": [
        "#### **1. Define the problem, specifically the Hamiltonian.**"
      ],
      "metadata": {
        "nteract": {
          "transient": {
            "deleting": false
          }
        },
        "id": "MchCi7n2eFnp"
      }
    },
    {
      "cell_type": "code",
      "source": [
        "def Hamiltonian(state): return state[0] + state[1] - 5*state[0]*state[1]"
      ],
      "outputs": [],
      "execution_count": 14,
      "metadata": {
        "id": "xlgiou8SeH-W"
      }
    },
    {
      "cell_type": "markdown",
      "source": [
        "##### **Run the code below to see all possible states and their energies.** (Physicists call this the *energy spectrum*.)"
      ],
      "metadata": {
        "id": "AGkXBUSieFnq"
      }
    },
    {
      "cell_type": "code",
      "source": [
        "printFullSpectrum(2, Hamiltonian)"
      ],
      "outputs": [
        {
          "output_type": "stream",
          "name": "stdout",
          "text": "[0, 0] 0\n[0, 1] 1\n[1, 0] 1\n[1, 1] -3\n"
        }
      ],
      "execution_count": 15,
      "metadata": {
        "id": "A44UTO9seFnq"
      }
    },
    {
      "cell_type": "markdown",
      "source": [
        "#### **2. Run VQE for the problem.**"
      ],
      "metadata": {
        "nteract": {
          "transient": {
            "deleting": false
          }
        },
        "id": "y7UxUegBeigM"
      }
    },
    {
      "cell_type": "code",
      "source": [
        "result = VQE(2, Hamiltonian)"
      ],
      "outputs": [],
      "execution_count": 16,
      "metadata": {
        "id": "DfTIIzc6eyZE"
      }
    },
    {
      "cell_type": "markdown",
      "source": [
        "#### **3. Examine the results.**"
      ],
      "metadata": {
        "nteract": {
          "transient": {
            "deleting": false
          }
        },
        "id": "NxSRljIIeigN"
      }
    },
    {
      "cell_type": "code",
      "source": [
        "print(result)\n",
        "results = localSimulator(MeasureTrialState, result.x, 2, 1000)\n",
        "\n",
        "plt.bar(results.keys(), results.values())\n",
        "\n",
        "plt.title(\"Result\")\n",
        "plt.xlabel(\"Measurement\")\n",
        "plt.ylabel(\"Probability\")\n",
        "\n",
        "plt.xticks(rotation = 90)\n",
        "\n",
        "plt.show()"
      ],
      "outputs": [
        {
          "output_type": "stream",
          "name": "stdout",
          "text": " message: Optimization terminated successfully\n success: True\n  status: 0\n     fun: -0.15000000000000002\n       x: [ 1.212e+06 -5.805e+04 -2.868e+06  1.569e+06]\n     nit: 12\n     jac: [ 1.342e+07 -6.711e+06  5.369e+07  4.362e+07]\n    nfev: 181\n    njev: 12\n"
        },
        {
          "output_type": "display_data",
          "data": {
            "text/plain": "<Figure size 640x480 with 1 Axes>",
            "image/png": "[encoded data removed]"
          },
          "metadata": {}
        }
      ],
      "execution_count": 17,
      "metadata": {
        "id": "IPeRZfNpeigN"
      }
    },
    {
      "cell_type": "markdown",
      "source": [
        "### **Exercise #2.3**\n",
        "\n",
        "Solve this problem for $C = 2$ using our three steps:\n",
        "1. Define the problem, specifically the Hamiltonian.\n",
        "2. Run VQE for the problem.\n",
        "3. Examine the results."
      ],
      "metadata": {
        "nteract": {
          "transient": {
            "deleting": false
          }
        },
        "id": "U6Hwk1U-e4re"
      }
    },
    {
      "cell_type": "markdown",
      "source": [
        "#### **1. Define the problem, specifically the Hamiltonian.**"
      ],
      "metadata": {
        "nteract": {
          "transient": {
            "deleting": false
          }
        },
        "id": "gQ7Pd6mLe4rf"
      }
    },
    {
      "cell_type": "code",
      "source": [
        "def Hamiltonian(state): return state[0] + state[1] - 2*state[0]*state[1]"
      ],
      "outputs": [],
      "execution_count": 18,
      "metadata": {
        "id": "Pay7Haoce4rf"
      }
    },
    {
      "cell_type": "markdown",
      "source": [
        "##### **Run the code below to see all possible states and their energies.** (Physicists call this the *energy spectrum*.)"
      ],
      "metadata": {
        "id": "MJPaVGSbe4rf"
      }
    },
    {
      "cell_type": "code",
      "source": [
        "printFullSpectrum(2, Hamiltonian)"
      ],
      "outputs": [
        {
          "output_type": "stream",
          "name": "stdout",
          "text": "[0, 0] 0\n[0, 1] 1\n[1, 0] 1\n[1, 1] 0\n"
        }
      ],
      "execution_count": 19,
      "metadata": {
        "id": "jziIn5mwe4rf"
      }
    },
    {
      "cell_type": "markdown",
      "source": [
        "#### **2. Run VQE for the problem.**"
      ],
      "metadata": {
        "nteract": {
          "transient": {
            "deleting": false
          }
        },
        "id": "pxwmFiXce4rg"
      }
    },
    {
      "cell_type": "code",
      "source": [
        "result = VQE(2, Hamiltonian)"
      ],
      "outputs": [],
      "execution_count": 22,
      "metadata": {
        "id": "0A00fcC4e4rg"
      }
    },
    {
      "cell_type": "markdown",
      "source": [
        "#### **3. Examine the results.**"
      ],
      "metadata": {
        "nteract": {
          "transient": {
            "deleting": false
          }
        },
        "id": "gphgfp0He4rg"
      }
    },
    {
      "cell_type": "code",
      "source": [
        "print(result)\n",
        "results = localSimulator(MeasureTrialState, result.x, 2, 1000)\n",
        "\n",
        "plt.bar(results.keys(), results.values())\n",
        "\n",
        "plt.title(\"Result\")\n",
        "plt.xlabel(\"Measurement\")\n",
        "plt.ylabel(\"Probability\")\n",
        "\n",
        "plt.xticks(rotation = 90)\n",
        "\n",
        "plt.show()"
      ],
      "outputs": [
        {
          "output_type": "stream",
          "name": "stdout",
          "text": " message: Optimization terminated successfully\n success: True\n  status: 0\n     fun: 0.49999999999999994\n       x: [ 6.145e+05 -8.753e+04 -8.026e+05 -6.103e+05]\n     nit: 5\n     jac: [-6.711e+06 -1.342e+07  3.355e+06  6.711e+06]\n    nfev: 76\n    njev: 5\n"
        },
        {
          "output_type": "display_data",
          "data": {
            "text/plain": "<Figure size 640x480 with 1 Axes>",
            "image/png": "[encoded data removed]"
          },
          "metadata": {}
        }
      ],
      "execution_count": 21,
      "metadata": {
        "id": "h_BGGoO1e4rg"
      }
    },
    {
      "cell_type": "markdown",
      "source": [
        "## **Part #3: Solving the Knapsack Problem**\n",
        "---\n",
        "\n",
        "Now, we will use VQE to solve the Knapsack Problem as described below.\n",
        "\n",
        "Given $n$ items with values, $\\{ \\text{value}_1, \\text{value}_2, ..., \\text{value}_n\\}$, and weights, $\\{\\text{weight}_1, \\text{weight}_2, ..., \\text{weight}_n\\}$, we want to find the combination of items to put in our knapsack that have the greatest total value without going over a given weight limit, $\\text{maxWeight}$. We can express this with the following Hamiltonian:\n",
        "\n",
        "$H = -\\sum_{i=1}^n{\\text{value}_i * x_i} + \\text{penalty} * (\\text{maxWeight} - \\sum_{i=1}^n{\\text{weight}_i * x_i} )^2$\n",
        "\n",
        "<br>\n",
        "\n",
        "**Run the code below to create a python function that converts a problem to the Hamiltonian.**"
      ],
      "metadata": {
        "nteract": {
          "transient": {
            "deleting": false
          }
        },
        "id": "FWTaFGMyfHKf"
      }
    },
    {
      "cell_type": "code",
      "source": [
        "def KnapsackProblem(state, value, weight, maxWeight):\n",
        "\n",
        "    n = len(value)\n",
        "    penalty = sum(value)/maxWeight**2 * 10\n",
        "\n",
        "    return -1*sum(value[i]*state[i] for i in range(n)) + penalty * (maxWeight - sum(weight[i]*state[i] for i in range(n)))**2"
      ],
      "outputs": [],
      "execution_count": 23,
      "metadata": {
        "id": "tzFN3EvVhaal"
      }
    },
    {
      "cell_type": "markdown",
      "source": [
        "### **Exercise #3.1: Defining and Solving the Knapsack Problem with VQE (Practice Together)**\n",
        "\n",
        "We will starting by solving this problem for the set of parameters given below using our three steps:\n",
        "1. Define the problem, specifically the Hamiltonian.\n",
        "2. Run VQE for the problem.\n",
        "3. Examine the results.\n",
        "\n",
        "<br>\n",
        "\n",
        "**Problem Description**:\n",
        "* $n = 3$\n",
        "* $\\text{value} = \\{6, 10, 15 \\}$\n",
        "* $\\text{weight} = \\{10, 50, 75\\}$\n",
        "* $\\text{maxWeight} = 100$"
      ],
      "metadata": {
        "nteract": {
          "transient": {
            "deleting": false
          }
        },
        "id": "q8pWQUnbgB2m"
      }
    },
    {
      "cell_type": "markdown",
      "source": [
        "#### **1. Define the problem, specifically the Hamiltonian.**"
      ],
      "metadata": {
        "nteract": {
          "transient": {
            "deleting": false
          }
        },
        "id": "oVb9zHRogB2w"
      }
    },
    {
      "cell_type": "code",
      "source": [
        "def Hamiltonian(state): return KnapsackProblem(state, \n",
        "                                               value = [6, 10, 15], \n",
        "                                               weight = [10, 50, 75], \n",
        "                                               maxWeight = 100)"
      ],
      "outputs": [],
      "execution_count": 24,
      "metadata": {
        "jupyter": {
          "source_hidden": false,
          "outputs_hidden": false
        },
        "nteract": {
          "transient": {
            "deleting": false
          }
        },
        "id": "m2xsQ8y2gB2w"
      }
    },
    {
      "cell_type": "markdown",
      "source": [
        "##### **Run the code below to see all possible states and their energies.** (Physicists call this the *energy spectrum*.)"
      ],
      "metadata": {
        "id": "9C9ii0QfgB2x"
      }
    },
    {
      "cell_type": "code",
      "source": [
        "printFullSpectrum(3, Hamiltonian)"
      ],
      "outputs": [
        {
          "output_type": "stream",
          "name": "stdout",
          "text": "[0, 0, 0] 310.0\n[0, 0, 1] 4.375\n[0, 1, 0] 67.5\n[0, 1, 1] -5.625\n[1, 0, 0] 245.1\n[1, 0, 1] -14.025\n[1, 1, 0] 33.6\n[1, 1, 1] 6.975000000000001\n"
        }
      ],
      "execution_count": 25,
      "metadata": {
        "id": "wTGFcKrrgB2x"
      }
    },
    {
      "cell_type": "markdown",
      "source": [
        "#### **2. Run VQE for the problem.**"
      ],
      "metadata": {
        "nteract": {
          "transient": {
            "deleting": false
          }
        },
        "id": "z2AeMdrsgB2x"
      }
    },
    {
      "cell_type": "code",
      "source": [
        "result = VQE(3, Hamiltonian)"
      ],
      "outputs": [],
      "execution_count": 26,
      "metadata": {
        "id": "_H3fiYNNgB2x"
      }
    },
    {
      "cell_type": "markdown",
      "source": [
        "#### **3. Examine the results.**"
      ],
      "metadata": {
        "nteract": {
          "transient": {
            "deleting": false
          }
        },
        "id": "wuErUUEugB2x"
      }
    },
    {
      "cell_type": "code",
      "source": [
        "print(result)\n",
        "results = localSimulator(MeasureTrialState, result.x, 3, 1000)\n",
        "\n",
        "plt.bar(results.keys(), results.values())\n",
        "\n",
        "plt.title(\"Result\")\n",
        "plt.xlabel(\"Measurement\")\n",
        "plt.ylabel(\"Probability\")\n",
        "\n",
        "plt.xticks(rotation = 90)\n",
        "\n",
        "plt.show()"
      ],
      "outputs": [
        {
          "output_type": "stream",
          "name": "stdout",
          "text": " message: Optimization terminated successfully\n success: True\n  status: 0\n     fun: 41.83125\n       x: [-9.593e+06  2.929e+07  1.137e+08  9.602e+06  1.421e+06\n           -2.668e+07 -7.058e+07 -1.199e+08]\n     nit: 50\n     jac: [ 2.685e+09  5.189e+08 -2.038e+08 -4.492e+08  7.849e+08\n            5.952e+08 -1.171e+09 -1.185e+09]\n    nfev: 951\n    njev: 50\n"
        },
        {
          "output_type": "display_data",
          "data": {
            "text/plain": "<Figure size 640x480 with 1 Axes>",
            "image/png": "[encoded data removed]"
          },
          "metadata": {}
        }
      ],
      "execution_count": 27,
      "metadata": {
        "id": "dClV-KRlgB2x"
      }
    },
    {
      "cell_type": "markdown",
      "source": [
        "### **Exercise #3.2**\n",
        "\n",
        "Now solve this problem for the set of parameters given below using our three steps:\n",
        "1. Define the problem, specifically the Hamiltonian.\n",
        "2. Run VQE for the problem.\n",
        "3. Examine the results.\n",
        "\n",
        "<br>\n",
        "\n",
        "**Problem Description**:\n",
        "* $n = 3$\n",
        "* $\\text{value} = \\{6, 10, 15 \\}$\n",
        "* $\\text{weight} = \\{10, 50, 75\\}$\n",
        "* $\\text{maxWeight} = 150$"
      ],
      "metadata": {
        "nteract": {
          "transient": {
            "deleting": false
          }
        },
        "id": "RcGjZNwtiMr1"
      }
    },
    {
      "cell_type": "markdown",
      "source": [
        "#### **1. Define the problem, specifically the Hamiltonian.**"
      ],
      "metadata": {
        "nteract": {
          "transient": {
            "deleting": false
          }
        },
        "id": "LAYDJzAHiiGm"
      }
    },
    {
      "cell_type": "code",
      "source": [
        "#COMPLETE THIS COMMAND\n",
        "def Hamiltonian(state): return KnapsackProblem(state, \n",
        "                                               value = [6, 10, 15], \n",
        "                                               weight = [10, 50, 75], \n",
        "                                               maxWeight = 150)"
      ],
      "outputs": [],
      "execution_count": 28,
      "metadata": {
        "id": "nX317_U2imqf"
      }
    },
    {
      "cell_type": "markdown",
      "source": [
        "##### **Run the code below to see all possible states and their energies.** (Physicists call this the *energy spectrum*.)"
      ],
      "metadata": {
        "id": "LRTukYD4iiGn"
      }
    },
    {
      "cell_type": "code",
      "source": [
        "printFullSpectrum(3, Hamiltonian)"
      ],
      "outputs": [
        {
          "output_type": "stream",
          "name": "stdout",
          "text": "[0, 0, 0] 310.0\n[0, 0, 1] 62.5\n[0, 1, 0] 127.77777777777777\n[0, 1, 1] -16.38888888888889\n[1, 0, 0] 264.0444444444444\n[1, 0, 1] 37.21111111111111\n[1, 1, 0] 95.6\n[1, 1, 1] -27.9\n"
        }
      ],
      "execution_count": 29,
      "metadata": {
        "id": "IerDORsbiiGn"
      }
    },
    {
      "cell_type": "markdown",
      "source": [
        "#### **2. Run VQE for the problem.**"
      ],
      "metadata": {
        "nteract": {
          "transient": {
            "deleting": false
          }
        },
        "id": "fuTBo0aviiGn"
      }
    },
    {
      "cell_type": "code",
      "source": [
        "result = VQE(3, Hamiltonian)"
      ],
      "outputs": [],
      "execution_count": 30,
      "metadata": {
        "id": "TtNmxV9fiiGn"
      }
    },
    {
      "cell_type": "markdown",
      "source": [
        "#### **3. Examine the results.**"
      ],
      "metadata": {
        "nteract": {
          "transient": {
            "deleting": false
          }
        },
        "id": "fX83sspCiiGn"
      }
    },
    {
      "cell_type": "code",
      "source": [
        "print(result)\n",
        "results = localSimulator(MeasureTrialState, result.x, 3, 1000)\n",
        "\n",
        "plt.bar(results.keys(), results.values())\n",
        "\n",
        "plt.title(\"Result\")\n",
        "plt.xlabel(\"Measurement\")\n",
        "plt.ylabel(\"Probability\")\n",
        "\n",
        "plt.xticks(rotation = 90)\n",
        "\n",
        "plt.show()"
      ],
      "outputs": [
        {
          "output_type": "stream",
          "name": "stdout",
          "text": " message: Optimization terminated successfully\n success: True\n  status: 0\n     fun: 170.10666666666665\n       x: [-5.219e+09  3.067e+07  3.990e+09 -6.834e+08 -3.362e+09\n            5.583e+08  4.842e+07 -2.711e+09]\n     nit: 17\n     jac: [-1.008e+00  9.841e+08  7.602e-01 -2.268e+00 -1.019e+00\n            4.958e+00 -8.911e+08 -2.325e-01]\n    nfev: 317\n    njev: 17\n"
        },
        {
          "output_type": "display_data",
          "data": {
            "text/plain": "<Figure size 640x480 with 1 Axes>",
            "image/png": "[encoded data removed]"
          },
          "metadata": {}
        }
      ],
      "execution_count": 31,
      "metadata": {
        "id": "xcnjAWfjiiGn"
      }
    },
    {
      "cell_type": "markdown",
      "source": [
        "### **Exercise #3.3**\n",
        "\n",
        "Now solve this problem for the set of parameters given below using our three steps:\n",
        "1. Define the problem, specifically the Hamiltonian.\n",
        "2. Run VQE for the problem.\n",
        "3. Examine the results.\n",
        "\n",
        "<br>\n",
        "\n",
        "**Problem Description**:\n",
        "* $n = 4$\n",
        "* $\\text{value} = \\{6, 10, 15, 14 \\}$\n",
        "* $\\text{weight} = \\{10, 50, 75, 25\\}$\n",
        "* $\\text{maxWeight} = 100$"
      ],
      "metadata": {
        "nteract": {
          "transient": {
            "deleting": false
          }
        },
        "id": "mpT8Nt3eiwbG"
      }
    },
    {
      "cell_type": "markdown",
      "source": [
        "#### **1. Define the problem, specifically the Hamiltonian.**"
      ],
      "metadata": {
        "nteract": {
          "transient": {
            "deleting": false
          }
        },
        "id": "11Y1Ug2uiwbH"
      }
    },
    {
      "cell_type": "code",
      "source": [
        "#COMPLETE THIS COMMAND\n",
        "def Hamiltonian(state): return KnapsackProblem(state, \n",
        "                                               value = [6, 10, 15, 14], \n",
        "                                               weight = [10, 50, 75, 25], \n",
        "                                               maxWeight = 100)"
      ],
      "outputs": [],
      "execution_count": 32,
      "metadata": {
        "id": "1ruylmkViwbH"
      }
    },
    {
      "cell_type": "markdown",
      "source": [
        "##### **Run the code below to see all possible states and their energies.** (Physicists call this the *energy spectrum*.)"
      ],
      "metadata": {
        "id": "yh49NmdciwbI"
      }
    },
    {
      "cell_type": "code",
      "source": [
        "printFullSpectrum(4, Hamiltonian)"
      ],
      "outputs": [
        {
          "output_type": "stream",
          "name": "stdout",
          "text": "[0, 0, 0, 0] 450.0\n[0, 0, 0, 1] 239.125\n[0, 0, 1, 0] 13.125\n[0, 0, 1, 1] -29.0\n[0, 1, 0, 0] 102.5\n[0, 1, 0, 1] 4.125\n[0, 1, 1, 0] 3.125\n[0, 1, 1, 1] 73.5\n[1, 0, 0, 0] 358.5\n[1, 0, 0, 1] 170.125\n[1, 0, 1, 0] -10.875\n[1, 0, 1, 1] -30.5\n[1, 1, 0, 0] 56.0\n[1, 1, 0, 1] -19.875\n[1, 1, 1, 0] 24.125\n[1, 1, 1, 1] 117.0\n"
        }
      ],
      "execution_count": 33,
      "metadata": {
        "id": "ow5vX3PBiwbI"
      }
    },
    {
      "cell_type": "markdown",
      "source": [
        "#### **2. Run VQE for the problem.**"
      ],
      "metadata": {
        "nteract": {
          "transient": {
            "deleting": false
          }
        },
        "id": "0K2cWhNOiwbI"
      }
    },
    {
      "cell_type": "code",
      "source": [
        "result = VQE(4, Hamiltonian)"
      ],
      "outputs": [],
      "execution_count": 34,
      "metadata": {
        "id": "BGND2I3ViwbI"
      }
    },
    {
      "cell_type": "markdown",
      "source": [
        "#### **3. Examine the results.**"
      ],
      "metadata": {
        "nteract": {
          "transient": {
            "deleting": false
          }
        },
        "id": "J-B5wV8ziwbI"
      }
    },
    {
      "cell_type": "code",
      "source": [
        "print(result)\n",
        "results = localSimulator(MeasureTrialState, result.x, 4, 1000)\n",
        "\n",
        "plt.bar(results.keys(), results.values())\n",
        "\n",
        "plt.title(\"Result\")\n",
        "plt.xlabel(\"Measurement\")\n",
        "plt.ylabel(\"Probability\")\n",
        "\n",
        "plt.xticks(rotation = 90)\n",
        "\n",
        "plt.show()"
      ],
      "outputs": [
        {
          "output_type": "stream",
          "name": "stdout",
          "text": " message: Optimization terminated successfully\n success: True\n  status: 0\n     fun: 155.14375\n       x: [ 6.124e+08  4.699e+08 ... -2.556e+08  6.869e+08]\n     nit: 40\n     jac: [ 5.673e+00  6.624e-01 ... -2.675e-01  3.835e+00]\n    nfev: 1061\n    njev: 40\n"
        },
        {
          "output_type": "display_data",
          "data": {
            "text/plain": "<Figure size 640x480 with 1 Axes>",
            "image/png": "[encoded data removed]"
          },
          "metadata": {}
        }
      ],
      "execution_count": 35,
      "metadata": {
        "id": "-Mw7A60JiwbI"
      }
    },
    {
      "cell_type": "markdown",
      "source": [
        "### **Exercise #3.4: Running On a Target. (Practice Together)**\n",
        "\n",
        "Let's try solving this problem using the IonQ simulator. Specifically, we will:\n",
        "1. Modify the code below so that the average energy function uses the currently connected target to get the results instead of running locally. \n",
        "2. Connect to a target of your choice.\n",
        "3. Solve the problem above using this target.\n",
        "4. Examine the results.\n",
        "\n",
        "<br>\n",
        "\n",
        "**NOTE**: While we could easily use a hardware target, this is not advisable since we need to each run a large number of different jobs. Generally, we need to run 100s of jobs to complete VQE, each of which could take a half hour or more. When researchers are running these jobs on real hardware, they often get special access to machines individually *and* modify their code to be extremely efficient (even if it's not as easy to understand)."
      ],
      "metadata": {
        "nteract": {
          "transient": {
            "deleting": false
          }
        },
        "id": "qkvj0gZXxaG9"
      }
    },
    {
      "cell_type": "markdown",
      "source": [
        "#### **1. Modify the code below so that the average energy function uses the currently connected target to get the results instead of running locally.**"
      ],
      "metadata": {
        "nteract": {
          "transient": {
            "deleting": false
          }
        },
        "id": "3BIm6xnYxaG-"
      }
    },
    {
      "cell_type": "code",
      "source": [
        "def averageEnergy(parameters, numQubits, Hamiltonian, shots = 100):\n",
        "\n",
        "    # Prepare and measure the state many times\n",
        "    results = localSimulator(MeasureTrialState, parameters, numQubits, shots)\n",
        "\n",
        "\n",
        "    # Calculate and return the average energy of this set of measurements\n",
        "    averageEnergy = 0\n",
        "    for bits in results.keys():\n",
        "        state = json.loads(bits)\n",
        "        averageEnergy += Hamiltonian(state) * results[bits]\n",
        "    \n",
        "    return averageEnergy"
      ],
      "outputs": [],
      "execution_count": null,
      "metadata": {
        "jupyter": {
          "source_hidden": false,
          "outputs_hidden": false
        },
        "nteract": {
          "transient": {
            "deleting": false
          }
        },
        "id": "JrqOZ604xaG-"
      }
    },
    {
      "cell_type": "markdown",
      "source": [
        "#### **2. Connect to a target of your choice.**\n",
        "\n",
        "Let's connect to the `\"ionq.simulator\"`."
      ],
      "metadata": {
        "nteract": {
          "transient": {
            "deleting": false
          }
        },
        "id": "x9E-dWm5xaG-"
      }
    },
    {
      "cell_type": "code",
      "source": [
        "qsharp.azure.target(\"ionq.simulator\")"
      ],
      "outputs": [],
      "execution_count": null,
      "metadata": {
        "jupyter": {
          "source_hidden": false,
          "outputs_hidden": false
        },
        "nteract": {
          "transient": {
            "deleting": false
          }
        },
        "id": "v74n6_3ExaG-"
      }
    },
    {
      "cell_type": "markdown",
      "source": [
        "#### **3. Solve the problem above using this target.**"
      ],
      "metadata": {
        "nteract": {
          "transient": {
            "deleting": false
          }
        },
        "id": "BNBYpHkvxaG-"
      }
    },
    {
      "cell_type": "code",
      "source": [
        "result = VQE(4, Hamiltonian)"
      ],
      "outputs": [],
      "execution_count": null,
      "metadata": {
        "jupyter": {
          "source_hidden": false,
          "outputs_hidden": false
        },
        "nteract": {
          "transient": {
            "deleting": false
          }
        },
        "id": "VHZGtBLlxaG-"
      }
    },
    {
      "cell_type": "markdown",
      "source": [
        "#### **3. Examine the results.**"
      ],
      "metadata": {
        "nteract": {
          "transient": {
            "deleting": false
          }
        },
        "id": "rpxB4u4yxaG-"
      }
    },
    {
      "cell_type": "code",
      "source": [
        "print(result)\n",
        "results = localSimulator(MeasureTrialState, result.x, 4, 1000)\n",
        "\n",
        "plt.bar(results.keys(), results.values())\n",
        "\n",
        "plt.title(\"Result\")\n",
        "plt.xlabel(\"Measurement\")\n",
        "plt.ylabel(\"Probability\")\n",
        "\n",
        "plt.xticks(rotation = 90)\n",
        "\n",
        "plt.show()"
      ],
      "outputs": [],
      "execution_count": null,
      "metadata": {
        "id": "AHLp4yZRxaG-"
      }
    },
    {
      "cell_type": "markdown",
      "source": [
        "## **Part #4: Solving the Portfolio Optimization Problem**\n",
        "---\n",
        "\n",
        "In this section, we will use the tools we've developed above to solve a real world problem, using real world data. In particular, we will look at the historical data for 5 prominent stocks (Apple, Netflix, Amazon, IBM, and Google) and use VQE to determine the best set to buy from these moving forward.\n",
        "\n",
        "We can modify the Knapsack problem to optimize which set of stocks we buy. In particular,\n",
        "* Our \"knapsack\" will be the portfolio of stocks we buy.\n",
        "* Each item will be a stock we are thinking about buying.\n",
        "* The value of each stock will be its expected return after some time.\n",
        "* The weight of each stock will be how much it costs to purchase it.\n",
        "* The weight limit will then be our budget.\n",
        "\n",
        "The only actual modification that professionals would suggest making to this problem is to consider *how risky* a given portfolio might be over a given time period. This can be calculated using something known as the *covariance*, which we will provide.\n",
        "\n",
        "<br>\n",
        "\n",
        "The overall Hamiltonian is then modified from\n",
        "\n",
        "$H = -\\sum_{i=1}^n{\\text{value}_i * x_i} + \\text{penalty} * (\\text{maxWeight} - \\sum_{i=1}^n{\\text{weight}_i * x_i} )^2$\n",
        "\n",
        "to\n",
        "\n",
        "$H = -\\sum_{i=1}^n{\\text{expectedReturn}_i * x_i} + \\text{penalty} * (\\text{budget} - \\sum_{i=1}^{n}{\\text{cost}_i * x_i} )^2 + \\text{riskPenalty}\\sum_{i,j=1}^{n}{\\text{covariance}_{i,j} x_i x_j}$\n",
        "\n",
        "<br>\n",
        "\n",
        "**Run the code below to load in the data and create a python function that converts a problem to the Hamiltonian.**"
      ],
      "metadata": {
        "nteract": {
          "transient": {
            "deleting": false
          }
        },
        "id": "LNRuq-dOjNjb"
      }
    },
    {
      "cell_type": "code",
      "source": [
        "# LOAD DATA\n",
        "#===========\n",
        "url = \"https://docs.google.com/spreadsheets/d/e/2PACX-1vTi5CXvfD9dMKL6147_1FpcdCXygr-7fc0PwxVTjGKXseQF__vXsOO-VQdqzxBhTHYMYQTIrLc6rSLh/pub?gid=1706580062&single=true&output=csv\"\n",
        "df = pd.read_csv(url)\n",
        "\n",
        "returns = []\n",
        "\n",
        "for i in range(1, len(df.columns)):\n",
        "  returns += [[]]\n",
        "  data = df[df.columns[i]]\n",
        "  for j in range(1, len(df)):\n",
        "    diff = data[j] - data[j - 1]\n",
        "    returns[i - 1] += [diff]\n",
        "    \n",
        "    \n",
        "# DEFINE GENERAL HAMILTONIAN\n",
        "#=============================\n",
        "def PortfolioOptimization(state, expectedReturn, cost, budget, covariance):\n",
        "\n",
        "  n = len(expectedReturn)\n",
        "  penalty = sum(expectedReturn)/budget**2 * 15\n",
        "  riskPenalty = 5/sum(sum(covariance[i][j] for j in range(n) for i in range(n)))\n",
        "\n",
        "  return -1*sum(expectedReturn[i]*state[i] for i in range(n)) + penalty * (sum(cost[i]*state[i] for i in range(n)) - budget)**2 + riskPenalty * sum(sum(covariance[i][j] * state[i] * state[j] for j in range(n)) for i in range(n))"
      ],
      "outputs": [],
      "execution_count": null,
      "metadata": {
        "id": "BoX5UZkikEnW"
      }
    },
    {
      "cell_type": "markdown",
      "source": [
        "### **Exercise #4.1: Visualize the Data (Practice Together)**\n",
        "\n",
        "It is vital to explore and visualize data before using it. **Run the code below to visualize this data.**\n"
      ],
      "metadata": {
        "nteract": {
          "transient": {
            "deleting": false
          }
        },
        "id": "HJDrmfUykW8j"
      }
    },
    {
      "cell_type": "code",
      "source": [
        "for ticker in df.columns[1:]:\n",
        "    stockData = df[ticker]\n",
        "    norm = (stockData - stockData.min())/(stockData.max()- stockData.min())\n",
        "    plt.plot(norm, label=ticker)\n",
        "\n",
        "plt.legend()\n",
        "plt.title(\"The normalised yearly evolution of stock prices:\")\n",
        "plt.xticks(rotation=90)\n",
        "plt.show()"
      ],
      "outputs": [],
      "execution_count": null,
      "metadata": {
        "jupyter": {
          "source_hidden": false,
          "outputs_hidden": false
        },
        "nteract": {
          "transient": {
            "deleting": false
          }
        },
        "id": "chKJ8EGnLwLy"
      }
    },
    {
      "cell_type": "markdown",
      "source": [
        "### **Exercise #4.2: Defining and Solving Portfolio Optimization with VQE (Practice Together)**\n",
        "\n",
        "We will starting by solving this problem for the set of parameters given below using our three steps:\n",
        "1. Define the problem, specifically the Hamiltonian.\n",
        "2. Run VQE for the problem.\n",
        "3. Examine the results.\n",
        "\n",
        "<br>\n",
        "\n",
        "**Problem Description**:\n",
        "* $n = 5$  (Apple, Netflix, Amazon, IBM, and Google)\n",
        "* $\\text{expectedReturn} = \\text{average historical returns}$\n",
        "* $\\text{covariance} = \\text{covariance of historical data}$\n",
        "* $\\text{cost} = \\{1, 1, 1, 1, 1\\}$\n",
        "* $\\text{budget} = 3$"
      ],
      "metadata": {
        "nteract": {
          "transient": {
            "deleting": false
          }
        },
        "id": "Ut4YPXSmksh4"
      }
    },
    {
      "cell_type": "markdown",
      "source": [
        "#### **1. Define the problem, specifically the Hamiltonian.**"
      ],
      "metadata": {
        "nteract": {
          "transient": {
            "deleting": false
          }
        },
        "id": "qI3p93lwksh5"
      }
    },
    {
      "cell_type": "code",
      "source": [
        "expectedReturn = pd.DataFrame(returns).transpose().mean().tolist()\n",
        "covariance = df.cov().values.tolist()\n",
        "\n",
        "cost = [1, 1, 1, 1, 1]\n",
        "budget = 3\n",
        "\n",
        "\n",
        "def Hamiltonian(state): return PortfolioOptimization(state, expectedReturn, cost, budget, covariance)"
      ],
      "outputs": [],
      "execution_count": null,
      "metadata": {
        "jupyter": {
          "source_hidden": false,
          "outputs_hidden": false
        },
        "nteract": {
          "transient": {
            "deleting": false
          }
        },
        "id": "Vtkt5-OAksh5"
      }
    },
    {
      "cell_type": "markdown",
      "source": [
        "##### **Run the code below to see all possible states and their energies.** (Physicists call this the *energy spectrum*.)"
      ],
      "metadata": {
        "id": "LqYj9HnDksh6"
      }
    },
    {
      "cell_type": "code",
      "source": [
        "printFullSpectrum(5, Hamiltonian)"
      ],
      "outputs": [],
      "execution_count": null,
      "metadata": {
        "id": "dXhiddmAksh6"
      }
    },
    {
      "cell_type": "markdown",
      "source": [
        "#### **2. Run VQE for the problem.**"
      ],
      "metadata": {
        "nteract": {
          "transient": {
            "deleting": false
          }
        },
        "id": "iPx__5svksh6"
      }
    },
    {
      "cell_type": "code",
      "source": [
        "result = VQE(5, Hamiltonian)"
      ],
      "outputs": [],
      "execution_count": null,
      "metadata": {
        "jupyter": {
          "source_hidden": false,
          "outputs_hidden": false
        },
        "nteract": {
          "transient": {
            "deleting": false
          }
        },
        "id": "tHLCZxpuxaG_"
      }
    },
    {
      "cell_type": "markdown",
      "source": [
        "#### **3. Examine the results.**"
      ],
      "metadata": {
        "nteract": {
          "transient": {
            "deleting": false
          }
        },
        "id": "kzBmaYHOksh6"
      }
    },
    {
      "cell_type": "code",
      "source": [
        "print(result)\n",
        "results = localSimulator(MeasureTrialState, result.x, 5, 1000)\n",
        "\n",
        "plt.bar(results.keys(), results.values())\n",
        "\n",
        "plt.title(\"Result\")\n",
        "plt.xlabel(\"Measurement\")\n",
        "plt.ylabel(\"Probability\")\n",
        "\n",
        "plt.xticks(rotation = 90)\n",
        "\n",
        "plt.show()"
      ],
      "outputs": [],
      "execution_count": null,
      "metadata": {
        "id": "wIp1qHluksh6"
      }
    },
    {
      "cell_type": "markdown",
      "source": [
        "# End of Notebook\n",
        "---\n",
        "© 2023 The Coding School, All rights reserved"
      ],
      "metadata": {
        "id": "EdHqE9-nlEnh"
      }
    }
  ],
  "metadata": {
    "language_info": {
      "name": "python",
      "version": "3.9.16",
      "mimetype": "text/x-python",
      "codemirror_mode": {
        "name": "ipython",
        "version": 3
      },
      "pygments_lexer": "ipython3",
      "nbconvert_exporter": "python",
      "file_extension": ".py"
    },
    "kernelspec": {
      "name": "python3",
      "language": "python",
      "display_name": "Python 3 (ipykernel)"
    },
    "kernel_info": {
      "name": "python3"
    },
    "nteract": {
      "version": "nteract-front-end@1.0.0"
    },
    "colab": {
      "provenance": []
    }
  },
  "nbformat": 4,
  "nbformat_minor": 0
}